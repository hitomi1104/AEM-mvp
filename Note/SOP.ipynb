{
 "cells": [
  {
   "cell_type": "markdown",
   "id": "8c0a4603",
   "metadata": {},
   "source": [
    "\n",
    "# LSMV Downstream MVP — SOP (End‑to‑End)\n",
    "\n",
    "## 0) What this service does (TL;DR)\n",
    "- Accepts an incoming report (JSON body or `.json` file upload).\n",
    "- (For POC) “Masks” values (turns all values into `\"1\"`) so we can test flow without real PHI/PII.\n",
    "- Simulates failures when `triggerFail=true` is provided.\n",
    "- Logs every attempt to `submission.log`.\n",
    "- Stores failed payloads in `failed.jsonl` for manual retries via `retry_runner.py`.\n"
   ]
  },
  {
   "cell_type": "markdown",
   "id": "a8b0a9a0",
   "metadata": {},
   "source": [
    "\n",
    "## 1) Project layout (expected)\n",
    "```plaintext\n",
    "lsmv-downstream-fastapi/\n",
    "├─ app/\n",
    "│  ├─ main.py             # FastAPI app; exposes /test-post and other utilities\n",
    "│  ├─ poster.py           # HTTP post + logging + retry helpers\n",
    "│  ├─ utils.py            # mask_json_values() and misc utilities\n",
    "│  ├─ etl.py              # (ingest/clean helpers for tabular files)\n",
    "│  ├─ json_generator.py   # (generate JSON records from DataFrame)\n",
    "│  └─ parse_e2b_xml.py    # (XML → records)\n",
    "├─ retry_runner.py        # manual retry CLI for failed.jsonl\n",
    "├─ requirements.txt\n",
    "├─ submission.log         # (generated)\n",
    "└─ failed.jsonl           # (generated)\n",
    "```\n"
   ]
  },
  {
   "cell_type": "markdown",
   "id": "6032aff4",
   "metadata": {},
   "source": [
    "\n",
    "## 2) Environment setup (local)\n",
    "1. **Create/activate a virtualenv**\n",
    "\n",
    "```bash\n",
    "python3 -m venv .venv\n",
    "source .venv/bin/activate\n",
    "```\n",
    "\n",
    "2. **Install dependencies**\n",
    "```bash\n",
    "pip install -r requirements.txt\n",
    "```\n",
    "\n",
    "3. **Start the API (hot reload)**\n",
    "```bash\n",
    "uvicorn app.main:app --reload\n",
    "```\n",
    "Expected output:\n",
    "```\n",
    "Uvicorn running on http://127.0.0.1:8000\n",
    "```\n"
   ]
  },
  {
   "cell_type": "markdown",
   "id": "e4c2b1a8",
   "metadata": {},
   "source": [
    "\n",
    "## 3) Endpoint \n",
    "\n",
    "### `POST /test-post`\n",
    "**Input (either)**  \n",
    "- JSON body (`Content-Type: application/json`)  \n",
    "- File upload multipart with `file=@your.json`  \n",
    "\n",
    "**Special testing flag:** `triggerFail: true` forces a 500‑style failure path.\n",
    "\n",
    "**Flow:**\n",
    "1. Reads payload (file or JSON).\n",
    "2. If `triggerFail == true`, raises an error (simulated).\n",
    "3. Otherwise masks values and returns masked JSON with 200.\n",
    "4. Logs every attempt to `submission.log`.\n",
    "5. On failure, also appends the original payload to `failed.jsonl`.\n"
   ]
  },
  {
   "cell_type": "markdown",
   "id": "2d9bdb93",
   "metadata": {},
   "source": [
    "\n",
    "## 4) Smoke tests (curl)\n",
    "\n",
    "Open a second terminal to run these while the server is on `http://localhost:8000`.\n"
   ]
  },
  {
   "cell_type": "code",
   "execution_count": null,
   "id": "75598ff4",
   "metadata": {},
   "outputs": [],
   "source": [
    "\n",
    "# 4.1 Success (JSON body)\n",
    "!curl -X POST http://localhost:8000/test-post \\\n",
    "  -H \"Content-Type: application/json\" \\\n",
    "  -d '{\"reportId\": \"AEV-SUCCESS-101\", \"eventDate\": \"2025-08-15\"}'\n"
   ]
  },
  {
   "cell_type": "code",
   "execution_count": null,
   "id": "dabbf56b",
   "metadata": {},
   "outputs": [],
   "source": [
    "\n",
    "# 4.2 Failure (simulate with triggerFail)\n",
    "!curl -X POST http://localhost:8000/test-post \\\n",
    "  -H \"Content-Type: application/json\" \\\n",
    "  -d '{\"reportId\": \"AEV-FAIL-101\", \"triggerFail\": true}'\n"
   ]
  },
  {
   "cell_type": "code",
   "execution_count": null,
   "id": "2d7140ce",
   "metadata": {},
   "outputs": [],
   "source": [
    "\n",
    "# 4.3 File upload (optional)\n",
    "!curl -X POST http://localhost:8000/test-post \\\n",
    "  -H \"Content-Type: multipart/form-data\" \\\n",
    "  -F \"file=@/absolute/path/to/your.json\"\n"
   ]
  },
  {
   "cell_type": "markdown",
   "id": "c415f5a1",
   "metadata": {},
   "source": [
    "\n",
    "## 5) Where to look: logs & failed queue\n",
    "\n",
    "### 5.1 Submission log\n",
    "```bash\n",
    "cat submission.log\n",
    "```\n",
    "\n",
    "Example lines:\n",
    "```\n",
    "[2025-08-15T09:33:44.954984] FAILURE: AEV-FAIL-TEST → Simulated failure via triggerFail → Code 500\n",
    "[2025-08-15T09:33:53.299559] SUCCESS: AEV-FAIL-TEST → Code 200\n",
    "```\n",
    "\n",
    "### 5.2 Failed queue (JSONL)\n",
    "```bash\n",
    "cat failed.jsonl\n",
    "```\n",
    "Example:\n",
    "```json\n",
    "{\"reportId\":\"AEV-PERSIST-001\",\"triggerFail\":true,\"retry_count\":1}\n",
    "```\n"
   ]
  },
  {
   "cell_type": "markdown",
   "id": "040a34d2",
   "metadata": {},
   "source": [
    "\n",
    "## 6) Manual retry workflow\n",
    "\n",
    "1. **Clean before test cycle (optional)**\n",
    "```bash\n",
    ": > submission.log\n",
    ": > failed.jsonl\n",
    "```\n",
    "\n",
    "2. **Generate a failure**\n",
    "```bash\n",
    "curl -X POST http://localhost:8000/test-post   -H \"Content-Type: application/json\"   -d '{\"reportId\":\"AEV-PERSIST-001\",\"triggerFail\":true}'\n",
    "```\n",
    "\n",
    "3. **Run retries**\n",
    "```bash\n",
    "python retry_runner.py --url http://localhost:8000/test-post --max 3\n",
    "```\n",
    "- `--url` is required.\n",
    "- `--max` caps per‑payload retries.\n",
    "\n",
    "4. **Check status**\n",
    "```bash\n",
    "cat failed.jsonl\n",
    "tail -n 10 submission.log\n",
    "```\n"
   ]
  },
  {
   "cell_type": "markdown",
   "id": "797f1ac0",
   "metadata": {},
   "source": [
    "\n",
    "## 7) Masking\n",
    "`mask_json_values()` (in `app/utils.py`) replaces all values with `\"1\"` while keeping keys.  \n",
    "Safe for testing without PHI.\n",
    "\n",
    "## 8) Troubleshooting\n",
    "- **500 but empty failed.jsonl** → Ensure `_save_failed_payload` is called in exception path.  \n",
    "- **Port in use** → Kill the old process or change port.  \n",
    "- **Import errors** → Run from repo root.\n",
    "\n",
    "## 9) Render test\n",
    "```bash\n",
    "python retry_runner.py --url https://<your-render-host>/test-post --max 3\n",
    "```\n",
    "\n",
    "## 10) Paused for now\n",
    "- Mule OAuth\n",
    "- Postgres ledger\n",
    "- Real outlet mapping\n",
    "\n",
    "## 11) One‑screen demo\n",
    "1. Start API\n",
    "2. Send success\n",
    "3. Send failure\n",
    "4. Retry → show persistence\n",
    "5. Edit/remove `triggerFail` → retry → success\n"
   ]
  }
 ],
 "metadata": {
  "language_info": {
   "name": "python"
  }
 },
 "nbformat": 4,
 "nbformat_minor": 5
}
